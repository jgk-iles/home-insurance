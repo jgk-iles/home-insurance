{
 "cells": [
  {
   "cell_type": "markdown",
   "id": "2846e47d-322d-42a1-b5b3-0bb07cb90c3b",
   "metadata": {},
   "source": [
    "# Model that matches probabilities for labelled and unlabelled segments"
   ]
  },
  {
   "cell_type": "code",
   "execution_count": 38,
   "id": "4add359a-5ba5-4930-8de6-54d5f218f760",
   "metadata": {},
   "outputs": [],
   "source": [
    "# Import necessary packages\n",
    "import pandas as pd\n",
    "import numpy as np\n",
    "import matplotlib.pyplot as plt\n",
    "\n",
    "from sklearn.model_selection import train_test_split, cross_val_score, StratifiedKFold\n",
    "from sklearn.semi_supervised import SelfTrainingClassifier\n",
    "from sklearn.metrics import roc_auc_score, RocCurveDisplay, roc_curve, auc, classification_report\n",
    "from sklearn.ensemble import RandomForestClassifier\n",
    "from sklearn.preprocessing import OneHotEncoder, LabelBinarizer\n",
    "from sklearn.compose import ColumnTransformer\n",
    "from imblearn.pipeline import Pipeline\n",
    "from imblearn.over_sampling import RandomOverSampler"
   ]
  },
  {
   "cell_type": "code",
   "execution_count": 2,
   "id": "c84067af-ceff-4ddc-9f4d-75e8c7e6194f",
   "metadata": {},
   "outputs": [],
   "source": [
    "%matplotlib inline"
   ]
  },
  {
   "cell_type": "code",
   "execution_count": 3,
   "id": "04fd7d43-4091-4dbd-a171-d3caf5825e1a",
   "metadata": {},
   "outputs": [],
   "source": [
    "import sys\n",
    "sys.path.append('..')"
   ]
  },
  {
   "cell_type": "code",
   "execution_count": 4,
   "id": "0b85cf11-9212-4c46-a76b-bd1392a7fd84",
   "metadata": {},
   "outputs": [],
   "source": [
    "from src.preprocessing import (\n",
    "    batch_parse_salary,\n",
    "    _combine_name_cols,\n",
    "    combine_time_with_employer,\n",
    "    import_mortgage_table,\n",
    "    import_campaign_table,\n",
    "    _pays_capital_tax\n",
    ")"
   ]
  },
  {
   "cell_type": "code",
   "execution_count": 5,
   "id": "bbf7b986-a37b-4ec5-8599-95f6d8e1e8f8",
   "metadata": {},
   "outputs": [
    {
     "name": "stdout",
     "output_type": "stream",
     "text": [
      "Getting exhange rates...\n"
     ]
    }
   ],
   "source": [
    "# Import tables\n",
    "campaign_df = import_campaign_table('../data/Campaign.csv', self_learning_setup=False)\n",
    "mortgage_df = import_mortgage_table('../data/Mortgage.csv')"
   ]
  },
  {
   "cell_type": "code",
   "execution_count": 6,
   "id": "a10d07b2-3c52-4d81-a646-f9c7b99c6f34",
   "metadata": {},
   "outputs": [],
   "source": [
    "# Feature names\n",
    "feature_names = [\n",
    "    'age',\n",
    "    'marital_status',\n",
    "    'occupation_level',\n",
    "    'education_num',\n",
    "    'familiarity_FB',\n",
    "    'view_FB',\n",
    "    'interested_insurance',\n",
    "    'salary_band',\n",
    "    'hours_per_week',\n",
    "    'workclass',\n",
    "    'total_months_with_employer',\n",
    "    'pays_captial_tax'\n",
    "]"
   ]
  },
  {
   "cell_type": "code",
   "execution_count": 7,
   "id": "f23f7a0f-e269-40cb-ab1d-2e8ca5446720",
   "metadata": {},
   "outputs": [
    {
     "name": "stdout",
     "output_type": "stream",
     "text": [
      "<class 'pandas.core.frame.DataFrame'>\n",
      "Int64Index: 29959 entries, 0 to 32059\n",
      "Data columns (total 13 columns):\n",
      " #   Column                      Non-Null Count  Dtype   \n",
      "---  ------                      --------------  -----   \n",
      " 0   age                         29959 non-null  float64 \n",
      " 1   marital_status              29959 non-null  category\n",
      " 2   occupation_level            29959 non-null  float64 \n",
      " 3   education_num               29959 non-null  float64 \n",
      " 4   familiarity_FB              29959 non-null  float64 \n",
      " 5   view_FB                     29959 non-null  float64 \n",
      " 6   interested_insurance        29959 non-null  float64 \n",
      " 7   salary_band                 29959 non-null  float64 \n",
      " 8   hours_per_week              29959 non-null  int64   \n",
      " 9   workclass                   29959 non-null  category\n",
      " 10  total_months_with_employer  29959 non-null  int64   \n",
      " 11  pays_captial_tax            29959 non-null  int64   \n",
      " 12  created_account             2809 non-null   string  \n",
      "dtypes: category(2), float64(7), int64(3), string(1)\n",
      "memory usage: 2.8 MB\n"
     ]
    }
   ],
   "source": [
    "# Concat the tables\n",
    "combined_df = pd.concat([campaign_df, mortgage_df], axis=1)\n",
    "combined_df = combined_df.dropna(subset=feature_names)\n",
    "combined_df = combined_df[feature_names + ['created_account']]\n",
    "combined_df.info()"
   ]
  },
  {
   "cell_type": "code",
   "execution_count": 8,
   "id": "180f1429-3481-4ace-88ec-fb3a68a7b1d2",
   "metadata": {},
   "outputs": [
    {
     "data": {
      "text/plain": [
       "No     2575\n",
       "Yes     234\n",
       "Name: created_account, dtype: Int64"
      ]
     },
     "execution_count": 8,
     "metadata": {},
     "output_type": "execute_result"
    }
   ],
   "source": [
    "combined_df.created_account.value_counts()"
   ]
  },
  {
   "cell_type": "code",
   "execution_count": 9,
   "id": "dd845477-b661-4f95-9ffb-492bf1a2d222",
   "metadata": {},
   "outputs": [],
   "source": [
    "# Split into labelled and unlabelled subsets\n",
    "labelled_df = combined_df[~combined_df.created_account.isna()]\n",
    "unlabelled_df = combined_df[combined_df.created_account.isna()]"
   ]
  },
  {
   "cell_type": "code",
   "execution_count": 10,
   "id": "f72c6834-4a76-485f-9aaf-82b80a4bc9b7",
   "metadata": {},
   "outputs": [
    {
     "name": "stdout",
     "output_type": "stream",
     "text": [
      "<class 'pandas.core.frame.DataFrame'>\n",
      "Int64Index: 2809 entries, 0 to 3026\n",
      "Data columns (total 13 columns):\n",
      " #   Column                      Non-Null Count  Dtype   \n",
      "---  ------                      --------------  -----   \n",
      " 0   age                         2809 non-null   float64 \n",
      " 1   marital_status              2809 non-null   category\n",
      " 2   occupation_level            2809 non-null   float64 \n",
      " 3   education_num               2809 non-null   float64 \n",
      " 4   familiarity_FB              2809 non-null   float64 \n",
      " 5   view_FB                     2809 non-null   float64 \n",
      " 6   interested_insurance        2809 non-null   float64 \n",
      " 7   salary_band                 2809 non-null   float64 \n",
      " 8   hours_per_week              2809 non-null   int64   \n",
      " 9   workclass                   2809 non-null   category\n",
      " 10  total_months_with_employer  2809 non-null   int64   \n",
      " 11  pays_captial_tax            2809 non-null   int64   \n",
      " 12  created_account             2809 non-null   string  \n",
      "dtypes: category(2), float64(7), int64(3), string(1)\n",
      "memory usage: 269.5 KB\n"
     ]
    }
   ],
   "source": [
    "labelled_df.info()"
   ]
  },
  {
   "cell_type": "code",
   "execution_count": 11,
   "id": "2edb92e9-d67a-4424-819c-c1d4ec44d157",
   "metadata": {},
   "outputs": [
    {
     "name": "stdout",
     "output_type": "stream",
     "text": [
      "<class 'pandas.core.frame.DataFrame'>\n",
      "Int64Index: 27150 entries, 3027 to 32059\n",
      "Data columns (total 13 columns):\n",
      " #   Column                      Non-Null Count  Dtype   \n",
      "---  ------                      --------------  -----   \n",
      " 0   age                         27150 non-null  float64 \n",
      " 1   marital_status              27150 non-null  category\n",
      " 2   occupation_level            27150 non-null  float64 \n",
      " 3   education_num               27150 non-null  float64 \n",
      " 4   familiarity_FB              27150 non-null  float64 \n",
      " 5   view_FB                     27150 non-null  float64 \n",
      " 6   interested_insurance        27150 non-null  float64 \n",
      " 7   salary_band                 27150 non-null  float64 \n",
      " 8   hours_per_week              27150 non-null  int64   \n",
      " 9   workclass                   27150 non-null  category\n",
      " 10  total_months_with_employer  27150 non-null  int64   \n",
      " 11  pays_captial_tax            27150 non-null  int64   \n",
      " 12  created_account             0 non-null      string  \n",
      "dtypes: category(2), float64(7), int64(3), string(1)\n",
      "memory usage: 2.5 MB\n"
     ]
    }
   ],
   "source": [
    "unlabelled_df.info()"
   ]
  },
  {
   "cell_type": "code",
   "execution_count": 12,
   "id": "6771e18c-bc95-4e89-8ded-051a974e39b7",
   "metadata": {},
   "outputs": [
    {
     "name": "stderr",
     "output_type": "stream",
     "text": [
      "/var/folders/_1/7f6t8txx15d5s33kvnp_g7n00000gn/T/ipykernel_78371/1603307160.py:4: SettingWithCopyWarning: \n",
      "A value is trying to be set on a copy of a slice from a DataFrame.\n",
      "Try using .loc[row_indexer,col_indexer] = value instead\n",
      "\n",
      "See the caveats in the documentation: https://pandas.pydata.org/pandas-docs/stable/user_guide/indexing.html#returning-a-view-versus-a-copy\n",
      "  labelled_df[\"created_account\"] = created_account_binary\n"
     ]
    }
   ],
   "source": [
    "# Binerize the labels\n",
    "lb = LabelBinarizer().fit(labelled_df[\"created_account\"])\n",
    "created_account_binary = lb.transform(labelled_df[\"created_account\"])\n",
    "labelled_df[\"created_account\"] = created_account_binary"
   ]
  },
  {
   "cell_type": "code",
   "execution_count": 53,
   "id": "6e771a94-2584-4da0-8e9c-848e0ccf2e44",
   "metadata": {},
   "outputs": [],
   "source": [
    "# Split labelled into X and y\n",
    "X_lab, y_lab = labelled_df.iloc[:,:-1], labelled_df.iloc[:,-1]"
   ]
  },
  {
   "cell_type": "code",
   "execution_count": 14,
   "id": "20bd66b3-e5e1-467f-94f0-f0cc1d9ae431",
   "metadata": {},
   "outputs": [],
   "source": [
    "# Baseline Random Forest (use only labelled data)\n",
    "rdf = RandomForestClassifier()"
   ]
  },
  {
   "cell_type": "code",
   "execution_count": 15,
   "id": "f34f38ec-30a7-435a-ad18-e8761cb675f7",
   "metadata": {},
   "outputs": [],
   "source": [
    "# Oversample minority class\n",
    "ros = RandomOverSampler()"
   ]
  },
  {
   "cell_type": "code",
   "execution_count": 16,
   "id": "9e1094ef-9457-4946-9fdc-b66dd12204a5",
   "metadata": {},
   "outputs": [],
   "source": [
    "# Encode by the columns\n",
    "ct = ColumnTransformer(\n",
    "    [(\"one_hot_encode\", OneHotEncoder(handle_unknown='ignore'), [\"marital_status\", \"workclass\"])],\n",
    "    remainder='passthrough', verbose_feature_names_out=False\n",
    ")"
   ]
  },
  {
   "cell_type": "code",
   "execution_count": 17,
   "id": "391e3283-a363-42bc-8822-ef90b6b68953",
   "metadata": {},
   "outputs": [],
   "source": [
    "# Make pipeline\n",
    "pipeline = Pipeline(\n",
    "    steps=[\n",
    "        (\"random_over_sample\", ros),\n",
    "        (\"encoder\", ct),\n",
    "        (\"random_forest\", rdf),\n",
    "    ]\n",
    ")"
   ]
  },
  {
   "cell_type": "code",
   "execution_count": 18,
   "id": "085ce1c2-8cd3-4c1a-8405-cda80f62ae93",
   "metadata": {},
   "outputs": [
    {
     "data": {
      "image/png": "[encoded data removed]",
      "text/plain": [
       "<Figure size 864x720 with 1 Axes>"
      ]
     },
     "metadata": {
      "needs_background": "light"
     },
     "output_type": "display_data"
    }
   ],
   "source": [
    "# Cross-validated ROC curve\n",
    "cv = StratifiedKFold(n_splits=5)\n",
    "\n",
    "tprs = []\n",
    "aucs = []\n",
    "mean_fpr = np.linspace(0, 1, 100)\n",
    "\n",
    "fig, ax = plt.subplots(figsize=(12,10))\n",
    "for i , (train, test) in enumerate(cv.split(X_lab, y_lab)):\n",
    "    pipeline.fit(X_lab.iloc[train], y_lab.iloc[train])\n",
    "    viz = RocCurveDisplay.from_estimator(\n",
    "        pipeline,\n",
    "        X_lab.iloc[test],\n",
    "        y_lab.iloc[test],\n",
    "        name=f\"ROC fold {i}\",\n",
    "        alpha=0.3,\n",
    "        lw=1,\n",
    "        ax=ax\n",
    "    )\n",
    "    interp_tpr = np.interp(mean_fpr, viz.fpr, viz.tpr)\n",
    "    interp_tpr[0] = 0.0\n",
    "    tprs.append(interp_tpr)\n",
    "    aucs.append(viz.roc_auc)\n",
    "\n",
    "ax.plot([0, 1], [0, 1], linestyle=\"--\", lw=2, color=\"r\", label=\"Chance\", alpha=0.8)\n",
    "\n",
    "mean_tpr = np.mean(tprs, axis=0)\n",
    "mean_tpr[-1] = 1.0\n",
    "mean_auc = auc(mean_fpr, mean_tpr)\n",
    "std_auc = np.std(aucs)\n",
    "ax.plot(\n",
    "    mean_fpr,\n",
    "    mean_tpr,\n",
    "    color=\"b\",\n",
    "    label=r\"Mean ROC (AUC = %0.2f $\\pm$ %0.2f)\" % (mean_auc, std_auc),\n",
    "    lw=2,\n",
    "    alpha=0.8,\n",
    ")\n",
    "\n",
    "std_tpr = np.std(tprs, axis=0)\n",
    "tprs_upper = np.minimum(mean_tpr + std_tpr, 1)\n",
    "tprs_lower = np.maximum(mean_tpr - std_tpr, 0)\n",
    "ax.fill_between(\n",
    "    mean_fpr,\n",
    "    tprs_lower,\n",
    "    tprs_upper,\n",
    "    color=\"grey\",\n",
    "    alpha=0.2,\n",
    "    label=r\"$\\pm$ 1 std. dev.\",\n",
    ")\n",
    "\n",
    "ax.set(\n",
    "    xlim=[-0.05, 1.05],\n",
    "    ylim=[-0.05, 1.05],\n",
    "    title=\"Receiver operating characteristic example\",\n",
    ")\n",
    "ax.legend(loc=\"lower right\")\n",
    "plt.show()"
   ]
  },
  {
   "cell_type": "code",
   "execution_count": 46,
   "id": "7fc5bdd2-4210-4481-90f7-3dffab4d2a97",
   "metadata": {},
   "outputs": [],
   "source": [
    "X_train, X_test, y_train, y_test = train_test_split(X_lab, y_lab, test_size=0.3)"
   ]
  },
  {
   "cell_type": "code",
   "execution_count": 77,
   "id": "d3bec5e4-fe41-4002-9b77-08bdc0c8268e",
   "metadata": {},
   "outputs": [],
   "source": [
    "pipeline.fit(X_train, y_train)\n",
    "y_pred = pipeline.predict(X_test)\n",
    "y_probas = pipeline.predict_proba(X_test)"
   ]
  },
  {
   "cell_type": "code",
   "execution_count": 78,
   "id": "41bcccca-5bfe-4d9c-abb0-7f2d126d004e",
   "metadata": {},
   "outputs": [],
   "source": [
    "X_unlab = unlabelled_df.iloc[:, :-1]\n",
    "proba_unlab = pipeline.predict_proba(X_unlab)[:,1]\n",
    "pred_unlab = pipeline.predict(X_unlab)"
   ]
  },
  {
   "cell_type": "code",
   "execution_count": 79,
   "id": "f177eb09-e09d-462d-9500-2ec398408e3d",
   "metadata": {},
   "outputs": [
    {
     "data": {
      "text/plain": [
       "array([0.93, 0.  , 0.03, ..., 0.02, 0.  , 0.03])"
      ]
     },
     "execution_count": 79,
     "metadata": {},
     "output_type": "execute_result"
    }
   ],
   "source": [
    "proba_unlab"
   ]
  },
  {
   "cell_type": "code",
   "execution_count": 80,
   "id": "f5381ea3-58ca-4881-b301-612459788ca8",
   "metadata": {},
   "outputs": [
    {
     "data": {
      "text/plain": [
       "0.09087378640776698"
      ]
     },
     "execution_count": 80,
     "metadata": {},
     "output_type": "execute_result"
    }
   ],
   "source": [
    "# Get percent accepted home insurance on labelled subset\n",
    "y_lab.value_counts()[1] / y_lab.value_counts()[0]"
   ]
  },
  {
   "cell_type": "code",
   "execution_count": 81,
   "id": "2f8851db-97a6-47cd-b990-46c2705a0590",
   "metadata": {},
   "outputs": [],
   "source": [
    "def match_threshold(probas: np.ndarray, percent_accept: float) -> float:\n",
    "    thresh = 0.0\n",
    "    while thresh != 1.0:\n",
    "        accept = (probas > thresh).sum() / len(probas)\n",
    "        if accept < percent_accept:\n",
    "            return thresh\n",
    "        thresh += 0.01"
   ]
  },
  {
   "cell_type": "code",
   "execution_count": 82,
   "id": "e430b6f5-b021-4d1a-8d4d-14c23de33928",
   "metadata": {
    "tags": []
   },
   "outputs": [
    {
     "data": {
      "text/plain": [
       "0.36000000000000015"
      ]
     },
     "execution_count": 82,
     "metadata": {},
     "output_type": "execute_result"
    }
   ],
   "source": [
    "match_threshold(proba_unlab, 0.09)"
   ]
  },
  {
   "cell_type": "code",
   "execution_count": 83,
   "id": "61acc47e-6ab7-4c4f-9833-a0d8b9d507e2",
   "metadata": {},
   "outputs": [],
   "source": [
    "def predict_threshold(probas: np.ndarray, threshold: float) -> np.ndarray:\n",
    "    return (probas > threshold).astype('float')"
   ]
  },
  {
   "cell_type": "code",
   "execution_count": 84,
   "id": "ccbbf107-f10e-429f-9aac-f846548ad0bd",
   "metadata": {},
   "outputs": [],
   "source": [
    "pred_unlab_thresh = predict_threshold(proba_unlab, 0.37)"
   ]
  },
  {
   "cell_type": "code",
   "execution_count": 85,
   "id": "d01a3d81-3777-4864-8c61-a23388a0aa6d",
   "metadata": {},
   "outputs": [
    {
     "name": "stdout",
     "output_type": "stream",
     "text": [
      "              precision    recall  f1-score   support\n",
      "\n",
      "           0       0.99      0.99      0.99       774\n",
      "           1       0.87      0.86      0.86        69\n",
      "\n",
      "    accuracy                           0.98       843\n",
      "   macro avg       0.93      0.92      0.92       843\n",
      "weighted avg       0.98      0.98      0.98       843\n",
      "\n"
     ]
    }
   ],
   "source": [
    "# Default threshold 0.5\n",
    "print(classification_report(y_test, y_pred))"
   ]
  },
  {
   "cell_type": "code",
   "execution_count": 89,
   "id": "9147d7c7-5d6a-414c-a307-16e42adf2fa0",
   "metadata": {},
   "outputs": [
    {
     "name": "stdout",
     "output_type": "stream",
     "text": [
      "              precision    recall  f1-score   support\n",
      "\n",
      "           0       0.99      0.98      0.99       774\n",
      "           1       0.80      0.94      0.87        69\n",
      "\n",
      "    accuracy                           0.98       843\n",
      "   macro avg       0.90      0.96      0.93       843\n",
      "weighted avg       0.98      0.98      0.98       843\n",
      "\n"
     ]
    }
   ],
   "source": [
    "# Custome threshold\n",
    "y_pred_new = predict_threshold(y_probas, 0.37)[:,1]\n",
    "print(classification_report(y_test, y_pred_new))"
   ]
  },
  {
   "cell_type": "code",
   "execution_count": null,
   "id": "3ad683aa-94fd-4150-a95b-02f425ef3e69",
   "metadata": {},
   "outputs": [],
   "source": []
  }
 ],
 "metadata": {
  "kernelspec": {
   "display_name": "Python 3 (ipykernel)",
   "language": "python",
   "name": "python3"
  },
  "language_info": {
   "codemirror_mode": {
    "name": "ipython",
    "version": 3
   },
   "file_extension": ".py",
   "mimetype": "text/x-python",
   "name": "python",
   "nbconvert_exporter": "python",
   "pygments_lexer": "ipython3",
   "version": "3.8.9"
  }
 },
 "nbformat": 4,
 "nbformat_minor": 5
}
